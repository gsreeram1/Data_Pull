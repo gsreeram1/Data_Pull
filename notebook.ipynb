{
 "cells": [
  {
   "cell_type": "code",
   "execution_count": 57,
   "metadata": {},
   "outputs": [],
   "source": [
    "import data_extract as de\n",
    "import time\n",
    "import pandas as pd\n",
    "\n",
    "\n",
    "\n",
    "\n"
   ]
  },
  {
   "cell_type": "code",
   "execution_count": 58,
   "metadata": {},
   "outputs": [],
   "source": [
    "d = de.ACDB().get_temp_forecasts()"
   ]
  },
  {
   "cell_type": "code",
   "execution_count": 59,
   "metadata": {},
   "outputs": [
    {
     "data": {
      "text/plain": [
       "FCID          object\n",
       "StartTime     object\n",
       "Value        float64\n",
       "dtype: object"
      ]
     },
     "execution_count": 59,
     "metadata": {},
     "output_type": "execute_result"
    }
   ],
   "source": [
    "d.dtypes"
   ]
  },
  {
   "cell_type": "code",
   "execution_count": 60,
   "metadata": {},
   "outputs": [
    {
     "data": {
      "text/html": [
       "<div>\n",
       "<style scoped>\n",
       "    .dataframe tbody tr th:only-of-type {\n",
       "        vertical-align: middle;\n",
       "    }\n",
       "\n",
       "    .dataframe tbody tr th {\n",
       "        vertical-align: top;\n",
       "    }\n",
       "\n",
       "    .dataframe thead th {\n",
       "        text-align: right;\n",
       "    }\n",
       "</style>\n",
       "<table border=\"1\" class=\"dataframe\">\n",
       "  <thead>\n",
       "    <tr style=\"text-align: right;\">\n",
       "      <th></th>\n",
       "      <th>FCID</th>\n",
       "      <th>StartTime</th>\n",
       "      <th>Value</th>\n",
       "    </tr>\n",
       "  </thead>\n",
       "  <tbody>\n",
       "    <tr>\n",
       "      <th>0</th>\n",
       "      <td>Coast</td>\n",
       "      <td>2017-12-31 00:00:00-06:00</td>\n",
       "      <td>9176.18</td>\n",
       "    </tr>\n",
       "    <tr>\n",
       "      <th>1</th>\n",
       "      <td>Coast</td>\n",
       "      <td>2017-12-31 01:00:00-06:00</td>\n",
       "      <td>8936.06</td>\n",
       "    </tr>\n",
       "    <tr>\n",
       "      <th>2</th>\n",
       "      <td>Coast</td>\n",
       "      <td>2017-12-31 02:00:00-06:00</td>\n",
       "      <td>8777.50</td>\n",
       "    </tr>\n",
       "    <tr>\n",
       "      <th>3</th>\n",
       "      <td>Coast</td>\n",
       "      <td>2017-12-31 03:00:00-06:00</td>\n",
       "      <td>8750.43</td>\n",
       "    </tr>\n",
       "    <tr>\n",
       "      <th>4</th>\n",
       "      <td>Coast</td>\n",
       "      <td>2017-12-31 04:00:00-06:00</td>\n",
       "      <td>8832.69</td>\n",
       "    </tr>\n",
       "    <tr>\n",
       "      <th>...</th>\n",
       "      <td>...</td>\n",
       "      <td>...</td>\n",
       "      <td>...</td>\n",
       "    </tr>\n",
       "    <tr>\n",
       "      <th>597408</th>\n",
       "      <td>TOTAL</td>\n",
       "      <td>2023-01-17 19:00:00-06:00</td>\n",
       "      <td>45151.19</td>\n",
       "    </tr>\n",
       "    <tr>\n",
       "      <th>597409</th>\n",
       "      <td>TOTAL</td>\n",
       "      <td>2023-01-17 20:00:00-06:00</td>\n",
       "      <td>44409.69</td>\n",
       "    </tr>\n",
       "    <tr>\n",
       "      <th>597410</th>\n",
       "      <td>TOTAL</td>\n",
       "      <td>2023-01-17 21:00:00-06:00</td>\n",
       "      <td>43098.28</td>\n",
       "    </tr>\n",
       "    <tr>\n",
       "      <th>597411</th>\n",
       "      <td>TOTAL</td>\n",
       "      <td>2023-01-17 22:00:00-06:00</td>\n",
       "      <td>40860.83</td>\n",
       "    </tr>\n",
       "    <tr>\n",
       "      <th>597412</th>\n",
       "      <td>TOTAL</td>\n",
       "      <td>2023-01-17 23:00:00-06:00</td>\n",
       "      <td>38501.51</td>\n",
       "    </tr>\n",
       "  </tbody>\n",
       "</table>\n",
       "<p>597413 rows × 3 columns</p>\n",
       "</div>"
      ],
      "text/plain": [
       "         FCID                  StartTime     Value\n",
       "0       Coast  2017-12-31 00:00:00-06:00   9176.18\n",
       "1       Coast  2017-12-31 01:00:00-06:00   8936.06\n",
       "2       Coast  2017-12-31 02:00:00-06:00   8777.50\n",
       "3       Coast  2017-12-31 03:00:00-06:00   8750.43\n",
       "4       Coast  2017-12-31 04:00:00-06:00   8832.69\n",
       "...       ...                        ...       ...\n",
       "597408  TOTAL  2023-01-17 19:00:00-06:00  45151.19\n",
       "597409  TOTAL  2023-01-17 20:00:00-06:00  44409.69\n",
       "597410  TOTAL  2023-01-17 21:00:00-06:00  43098.28\n",
       "597411  TOTAL  2023-01-17 22:00:00-06:00  40860.83\n",
       "597412  TOTAL  2023-01-17 23:00:00-06:00  38501.51\n",
       "\n",
       "[597413 rows x 3 columns]"
      ]
     },
     "execution_count": 60,
     "metadata": {},
     "output_type": "execute_result"
    }
   ],
   "source": [
    "d"
   ]
  },
  {
   "cell_type": "code",
   "execution_count": null,
   "metadata": {},
   "outputs": [],
   "source": []
  }
 ],
 "metadata": {
  "kernelspec": {
   "display_name": "Python 3",
   "language": "python",
   "name": "python3"
  },
  "language_info": {
   "codemirror_mode": {
    "name": "ipython",
    "version": 3
   },
   "file_extension": ".py",
   "mimetype": "text/x-python",
   "name": "python",
   "nbconvert_exporter": "python",
   "pygments_lexer": "ipython3",
   "version": "3.11.0"
  },
  "orig_nbformat": 4,
  "vscode": {
   "interpreter": {
    "hash": "34858fb4650e4f08c5273abdf3b94d08eabaf2da6ad278d4e34e857f9bde1bd0"
   }
  }
 },
 "nbformat": 4,
 "nbformat_minor": 2
}
