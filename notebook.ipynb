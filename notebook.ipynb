{
 "cells": [
  {
   "cell_type": "code",
   "execution_count": 61,
   "metadata": {},
   "outputs": [],
   "source": [
    "import data_extract as de\n",
    "import time\n",
    "import pandas as pd\n",
    "\n",
    "\n",
    "\n",
    "\n"
   ]
  },
  {
   "cell_type": "code",
   "execution_count": 62,
   "metadata": {},
   "outputs": [],
   "source": [
    "d = de.ACDB().get_temp_forecasts()"
   ]
  },
  {
   "cell_type": "code",
   "execution_count": 63,
   "metadata": {},
   "outputs": [
    {
     "data": {
      "text/plain": [
       "FCID                 object\n",
       "StartTime    datetime64[ns]\n",
       "Value               float64\n",
       "Type                 object\n",
       "dtype: object"
      ]
     },
     "execution_count": 63,
     "metadata": {},
     "output_type": "execute_result"
    }
   ],
   "source": [
    "d.dtypes"
   ]
  },
  {
   "cell_type": "code",
   "execution_count": 64,
   "metadata": {},
   "outputs": [
    {
     "data": {
      "text/html": [
       "<div>\n",
       "<style scoped>\n",
       "    .dataframe tbody tr th:only-of-type {\n",
       "        vertical-align: middle;\n",
       "    }\n",
       "\n",
       "    .dataframe tbody tr th {\n",
       "        vertical-align: top;\n",
       "    }\n",
       "\n",
       "    .dataframe thead th {\n",
       "        text-align: right;\n",
       "    }\n",
       "</style>\n",
       "<table border=\"1\" class=\"dataframe\">\n",
       "  <thead>\n",
       "    <tr style=\"text-align: right;\">\n",
       "      <th></th>\n",
       "      <th>FCID</th>\n",
       "      <th>StartTime</th>\n",
       "      <th>Value</th>\n",
       "      <th>Type</th>\n",
       "    </tr>\n",
       "  </thead>\n",
       "  <tbody>\n",
       "    <tr>\n",
       "      <th>0</th>\n",
       "      <td>Coast</td>\n",
       "      <td>2016-01-01 00:00:00</td>\n",
       "      <td>49.8</td>\n",
       "      <td>TempForecasts</td>\n",
       "    </tr>\n",
       "    <tr>\n",
       "      <th>1</th>\n",
       "      <td>Coast</td>\n",
       "      <td>2016-01-01 01:00:00</td>\n",
       "      <td>49.0</td>\n",
       "      <td>TempForecasts</td>\n",
       "    </tr>\n",
       "    <tr>\n",
       "      <th>2</th>\n",
       "      <td>Coast</td>\n",
       "      <td>2016-01-01 02:00:00</td>\n",
       "      <td>49.0</td>\n",
       "      <td>TempForecasts</td>\n",
       "    </tr>\n",
       "    <tr>\n",
       "      <th>3</th>\n",
       "      <td>Coast</td>\n",
       "      <td>2016-01-01 03:00:00</td>\n",
       "      <td>48.2</td>\n",
       "      <td>TempForecasts</td>\n",
       "    </tr>\n",
       "    <tr>\n",
       "      <th>4</th>\n",
       "      <td>Coast</td>\n",
       "      <td>2016-01-01 04:00:00</td>\n",
       "      <td>48.0</td>\n",
       "      <td>TempForecasts</td>\n",
       "    </tr>\n",
       "    <tr>\n",
       "      <th>...</th>\n",
       "      <td>...</td>\n",
       "      <td>...</td>\n",
       "      <td>...</td>\n",
       "      <td>...</td>\n",
       "    </tr>\n",
       "    <tr>\n",
       "      <th>2401507</th>\n",
       "      <td>West</td>\n",
       "      <td>2023-01-26 19:00:00</td>\n",
       "      <td>46.0</td>\n",
       "      <td>TempForecasts</td>\n",
       "    </tr>\n",
       "    <tr>\n",
       "      <th>2401508</th>\n",
       "      <td>West</td>\n",
       "      <td>2023-01-26 20:00:00</td>\n",
       "      <td>43.0</td>\n",
       "      <td>TempForecasts</td>\n",
       "    </tr>\n",
       "    <tr>\n",
       "      <th>2401509</th>\n",
       "      <td>West</td>\n",
       "      <td>2023-01-26 21:00:00</td>\n",
       "      <td>40.2</td>\n",
       "      <td>TempForecasts</td>\n",
       "    </tr>\n",
       "    <tr>\n",
       "      <th>2401510</th>\n",
       "      <td>West</td>\n",
       "      <td>2023-01-26 22:00:00</td>\n",
       "      <td>37.6</td>\n",
       "      <td>TempForecasts</td>\n",
       "    </tr>\n",
       "    <tr>\n",
       "      <th>2401511</th>\n",
       "      <td>West</td>\n",
       "      <td>2023-01-26 23:00:00</td>\n",
       "      <td>36.0</td>\n",
       "      <td>TempForecasts</td>\n",
       "    </tr>\n",
       "  </tbody>\n",
       "</table>\n",
       "<p>2401512 rows × 4 columns</p>\n",
       "</div>"
      ],
      "text/plain": [
       "          FCID           StartTime  Value           Type\n",
       "0        Coast 2016-01-01 00:00:00   49.8  TempForecasts\n",
       "1        Coast 2016-01-01 01:00:00   49.0  TempForecasts\n",
       "2        Coast 2016-01-01 02:00:00   49.0  TempForecasts\n",
       "3        Coast 2016-01-01 03:00:00   48.2  TempForecasts\n",
       "4        Coast 2016-01-01 04:00:00   48.0  TempForecasts\n",
       "...        ...                 ...    ...            ...\n",
       "2401507   West 2023-01-26 19:00:00   46.0  TempForecasts\n",
       "2401508   West 2023-01-26 20:00:00   43.0  TempForecasts\n",
       "2401509   West 2023-01-26 21:00:00   40.2  TempForecasts\n",
       "2401510   West 2023-01-26 22:00:00   37.6  TempForecasts\n",
       "2401511   West 2023-01-26 23:00:00   36.0  TempForecasts\n",
       "\n",
       "[2401512 rows x 4 columns]"
      ]
     },
     "execution_count": 64,
     "metadata": {},
     "output_type": "execute_result"
    }
   ],
   "source": [
    "d"
   ]
  },
  {
   "cell_type": "code",
   "execution_count": null,
   "metadata": {},
   "outputs": [],
   "source": []
  }
 ],
 "metadata": {
  "kernelspec": {
   "display_name": "Python 3",
   "language": "python",
   "name": "python3"
  },
  "language_info": {
   "codemirror_mode": {
    "name": "ipython",
    "version": 3
   },
   "file_extension": ".py",
   "mimetype": "text/x-python",
   "name": "python",
   "nbconvert_exporter": "python",
   "pygments_lexer": "ipython3",
   "version": "3.11.0 (main, Oct 24 2022, 18:26:48) [MSC v.1933 64 bit (AMD64)]"
  },
  "orig_nbformat": 4,
  "vscode": {
   "interpreter": {
    "hash": "34858fb4650e4f08c5273abdf3b94d08eabaf2da6ad278d4e34e857f9bde1bd0"
   }
  }
 },
 "nbformat": 4,
 "nbformat_minor": 2
}
